{
 "cells": [
  {
   "cell_type": "markdown",
   "metadata": {},
   "source": [
    "## Correlation between different indicators and number of beds"
   ]
  },
  {
   "cell_type": "markdown",
   "metadata": {},
   "source": [
    "**Import library and file**"
   ]
  },
  {
   "cell_type": "code",
   "execution_count": 1,
   "metadata": {
    "scrolled": true
   },
   "outputs": [
    {
     "name": "stdout",
     "output_type": "stream",
     "text": [
      "    id  population     gdp       beds     doctors\n",
      "0   ZH    1520.968   95608   4.097819  261.412469\n",
      "1   BE    1034.977   76085   4.834504  224.932535\n",
      "2   LU     409.557   66655   3.845010  177.264703\n",
      "3   UR      36.433   52468   1.729202  112.535339\n",
      "4   SZ     159.165   60313   2.104734  146.388967\n",
      "5   OW      37.841   66970   1.329210  124.203906\n",
      "6   NW      43.223   71329   2.304329  122.619901\n",
      "7   GL      40.403   68671   3.644108  138.603569\n",
      "8   ZG     126.837  151747   4.470304  208.929571\n",
      "9   FR     318.714   59444   2.716697  145.271309\n",
      "10  SO     273.194   65459   2.512420  161.057710\n",
      "11  BS     194.766  185826  11.132038  440.015198\n",
      "12  BL     288.132   71065   3.398652  245.026585\n",
      "13  SH      81.991   85895   3.543389  191.484431\n",
      "14  AR      55.234   56038   8.975760  175.616468\n",
      "15  AI      16.145   61633   2.023443  123.877361\n",
      "16  SG     507.697   73059   4.527709  195.392133\n",
      "17  GR     198.379   70909   5.694193  188.528020\n",
      "18  AG     678.207   62337   4.542744  170.744330\n",
      "19  TG     276.472   60143   5.625103  161.318325\n",
      "20  TI     353.343   80532   5.309289  228.106967\n",
      "21  VD     799.145   68102   4.695837  243.009717\n",
      "22  VS     343.955   54083   3.910754  180.546874\n",
      "23  NE     176.850   86584   3.396129  238.620300\n",
      "24  GE     499.480  100464   4.758549  399.215184\n",
      "25  JU      73.419   63236   4.748948  151.187022\n"
     ]
    }
   ],
   "source": [
    "from pandas import DataFrame, read_csv\n",
    "import matplotlib.pyplot as plt\n",
    "import pandas as pd\n",
    "import numpy as np\n",
    "\n",
    "logfile_path = '../website/data/swiss_indicators_2020.csv'\n",
    "df = pd.DataFrame(pd.read_csv(logfile_path))\n",
    "print(df)"
   ]
  },
  {
   "cell_type": "code",
   "execution_count": 2,
   "metadata": {},
   "outputs": [
    {
     "name": "stdout",
     "output_type": "stream",
     "text": [
      "<class 'pandas.core.frame.DataFrame'>\n",
      "RangeIndex: 26 entries, 0 to 25\n",
      "Data columns (total 5 columns):\n",
      " #   Column      Non-Null Count  Dtype  \n",
      "---  ------      --------------  -----  \n",
      " 0   id          26 non-null     object \n",
      " 1   population  26 non-null     float64\n",
      " 2   gdp         26 non-null     int64  \n",
      " 3   beds        26 non-null     float64\n",
      " 4   doctors     26 non-null     float64\n",
      "dtypes: float64(3), int64(1), object(1)\n",
      "memory usage: 1.1+ KB\n"
     ]
    }
   ],
   "source": [
    "cols = ['population', 'gdp', 'beds', 'doctors']  \n",
    "for col in cols: \n",
    "    df[col] = pd.to_numeric(df[col])\n",
    "    \n",
    "df.info()"
   ]
  },
  {
   "cell_type": "markdown",
   "metadata": {},
   "source": [
    "**GDP per capita and number of beds**"
   ]
  },
  {
   "cell_type": "code",
   "execution_count": 3,
   "metadata": {},
   "outputs": [
    {
     "ename": "NameError",
     "evalue": "name 'ordered_popArr' is not defined",
     "output_type": "error",
     "traceback": [
      "\u001b[0;31m---------------------------------------------------------------------------\u001b[0m",
      "\u001b[0;31mNameError\u001b[0m                                 Traceback (most recent call last)",
      "\u001b[0;32m<ipython-input-3-89e352301f05>\u001b[0m in \u001b[0;36m<module>\u001b[0;34m\u001b[0m\n\u001b[1;32m     13\u001b[0m \u001b[0mmarker_size\u001b[0m \u001b[0;34m=\u001b[0m \u001b[0mnp\u001b[0m\u001b[0;34m.\u001b[0m\u001b[0mpower\u001b[0m\u001b[0;34m(\u001b[0m\u001b[0mpopPerGDP\u001b[0m\u001b[0;34m,\u001b[0m\u001b[0;36m2\u001b[0m\u001b[0;34m)\u001b[0m \u001b[0;34m/\u001b[0m \u001b[0;36m800\u001b[0m\u001b[0;34m\u001b[0m\u001b[0m\n\u001b[1;32m     14\u001b[0m \u001b[0mcolor\u001b[0m \u001b[0;34m=\u001b[0m \u001b[0;34m[\u001b[0m\u001b[0;34m]\u001b[0m\u001b[0;34m\u001b[0m\u001b[0m\n\u001b[0;32m---> 15\u001b[0;31m \u001b[0;32mfor\u001b[0m \u001b[0mi\u001b[0m \u001b[0;32min\u001b[0m \u001b[0mrange\u001b[0m\u001b[0;34m(\u001b[0m\u001b[0mordered_popArr\u001b[0m\u001b[0;34m.\u001b[0m\u001b[0msize\u001b[0m\u001b[0;34m)\u001b[0m\u001b[0;34m:\u001b[0m\u001b[0;34m\u001b[0m\u001b[0m\n\u001b[0m\u001b[1;32m     16\u001b[0m     \u001b[0;32mif\u001b[0m\u001b[0;34m(\u001b[0m\u001b[0mpopPerGDP\u001b[0m\u001b[0;34m[\u001b[0m\u001b[0mi\u001b[0m\u001b[0;34m]\u001b[0m \u001b[0;34m>\u001b[0m \u001b[0mnp\u001b[0m\u001b[0;34m.\u001b[0m\u001b[0mmean\u001b[0m\u001b[0;34m(\u001b[0m\u001b[0mpopPerGDP\u001b[0m\u001b[0;34m)\u001b[0m\u001b[0;34m)\u001b[0m\u001b[0;34m:\u001b[0m\u001b[0;34m\u001b[0m\u001b[0m\n\u001b[1;32m     17\u001b[0m         \u001b[0mcolor\u001b[0m\u001b[0;34m.\u001b[0m\u001b[0mappend\u001b[0m\u001b[0;34m(\u001b[0m\u001b[0;34m'r'\u001b[0m\u001b[0;34m)\u001b[0m\u001b[0;34m\u001b[0m\u001b[0m\n",
      "\u001b[0;31mNameError\u001b[0m: name 'ordered_popArr' is not defined"
     ]
    }
   ],
   "source": [
    "ordered_gdp = df['gdp'].sort_values()\n",
    "ordered_gdpArr = ordered_gdp.to_numpy()\n",
    "index_array = np.argsort(df['gdp'].to_numpy())\n",
    "bedsPerGDP = []\n",
    "popPerGDP = []\n",
    "label = []\n",
    "\n",
    "for i in range(index_array.size):\n",
    "    bedsPerGDP.append(df.iloc[0:,3][index_array[i]])\n",
    "    label.append(df.iloc[0:,0][index_array[i]])\n",
    "    popPerGDP.append(df.iloc[0:,1][index_array[i]])\n",
    "\n",
    "marker_size = np.power(popPerGDP,2) / 800\n",
    "color = []\n",
    "for i in range(ordered_popArr.size):\n",
    "    if(popPerGDP[i] > np.mean(popPerGDP)):\n",
    "        color.append('r')\n",
    "    else:\n",
    "        color.append('b')\n",
    "\n",
    "fig, ax = plt.subplots()\n",
    "ax.scatter(ordered_gdpArr,bedsPerGDP, c = color, s = marker_size, alpha = 0.2)\n",
    "\n",
    "for i, txt in enumerate(label):\n",
    "    ax.annotate(txt, (ordered_gdpArr[i], bedsPerGDP[i]))\n",
    "plt.show()"
   ]
  },
  {
   "cell_type": "markdown",
   "metadata": {},
   "source": [
    "**Population and number of beds**"
   ]
  },
  {
   "cell_type": "code",
   "execution_count": null,
   "metadata": {},
   "outputs": [],
   "source": [
    "ordered_pop = df['population'].sort_values()\n",
    "ordered_popArr = ordered_pop.to_numpy()\n",
    "\n",
    "label = []\n",
    "\n",
    "index_array = np.argsort(df['population'].to_numpy())\n",
    "bedsPerPop = []\n",
    "gdpPerPop = []\n",
    "\n",
    "for i in range(ordered_popArr.size):\n",
    "    bedsPerPop.append(df.iloc[0:,3][index_array[i]])\n",
    "    label.append(df.iloc[0:,0][index_array[i]])\n",
    "    gdpPerPop.append(df.iloc[0:,2][index_array[i]]/1000)\n",
    "   \n",
    "color = []\n",
    "for i in range(ordered_popArr.size):\n",
    "    if(gdpPerPop[i] > np.mean(gdpPerPop)):\n",
    "        color.append('r')\n",
    "    else:\n",
    "        color.append('b')\n",
    "            \n",
    "marker_size = np.power(gdpPerPop,3) / 2000\n",
    "\n",
    "fig, ax = plt.subplots()\n",
    "ax.scatter(ordered_popArr,bedsPerPop, c=color, s=marker_size, alpha=0.2)\n",
    "\n",
    "for i, txt in enumerate(label):\n",
    "    ax.annotate(txt, (ordered_popArr[i], bedsPerPop[i]))\n",
    "\n",
    "plt.show()"
   ]
  },
  {
   "cell_type": "code",
   "execution_count": null,
   "metadata": {},
   "outputs": [],
   "source": [
    "logfile_path = '../website/data/swiss_icu_2020.csv'\n",
    "df = pd.DataFrame(pd.read_csv(logfile_path))\n",
    "print(df.head())\n",
    "\n",
    "cols = ['population', 'gdp', 'ICUbefore', 'ICUafter']  \n",
    "for col in cols: \n",
    "    df[col] = pd.to_numeric(df[col])"
   ]
  },
  {
   "cell_type": "markdown",
   "metadata": {},
   "source": [
    "**Comparison of resources before and during covid**"
   ]
  },
  {
   "cell_type": "code",
   "execution_count": null,
   "metadata": {},
   "outputs": [],
   "source": [
    "fig = plt.figure()\n",
    "ax = fig.add_axes([0,0,1,1])\n",
    "cantons = np.array(df[\"id\"])\n",
    "values = np.array(df[\"ICUbefore\"])\n",
    "valuesAfter = np.array(df[\"ICUafter\"])\n",
    "ax.bar(cantons,valuesAfter, color =\"r\", alpha= 0.5)\n",
    "ax.bar(cantons,values, color=\"b\", alpha = 0.5)\n",
    "plt.legend([\"ICU beds in May\", \"ICU beds in March\"])\n",
    "plt.show()"
   ]
  },
  {
   "cell_type": "code",
   "execution_count": null,
   "metadata": {
    "scrolled": true
   },
   "outputs": [],
   "source": [
    "fig = plt.figure()\n",
    "ax = fig.add_axes([0,0,1,1])\n",
    "index_array = np.argsort(df['ICUafter'].to_numpy())\n",
    "\n",
    "cantons = []\n",
    "values = []\n",
    "valuesAfter = []\n",
    "\n",
    "for i in range(index_array.size):\n",
    "    cantons.append(df[\"id\"][index_array[i]])\n",
    "    values.append(df[\"ICUbefore\"][index_array[i]])\n",
    "    valuesAfter.append(df[\"ICUafter\"][index_array[i]])\n",
    "    \n",
    "ax.bar(cantons,valuesAfter, color =\"r\", alpha= 0.5)\n",
    "ax.bar(cantons,values, color=\"b\", alpha = 0.5)\n",
    "plt.legend([\"ICU beds in May\", \"ICU beds in March\"])\n",
    "plt.title(\"Total number of ICU beds\")\n",
    "plt.show()\n",
    "\n",
    "# NORMALIZED\n",
    "fig = plt.figure()\n",
    "ax = fig.add_axes([0,0,1,1])\n",
    "index_array = np.argsort((df['ICUafter'] / df['population']).to_numpy())\n",
    "\n",
    "total_pop = np.sum(df['population'].to_numpy())\n",
    "total_bed = np.sum(df['ICUafter'].to_numpy())\n",
    "\n",
    "cantons = []\n",
    "values = []\n",
    "valuesAfter = []\n",
    "\n",
    "for i in range(index_array.size):\n",
    "    cantons.append(df[\"id\"][index_array[i]])\n",
    "    values.append(df[\"ICUbefore\"][index_array[i]] / df[\"population\"][index_array[i]])\n",
    "    valuesAfter.append(df[\"ICUafter\"][index_array[i]] / df[\"population\"][index_array[i]])\n",
    "    \n",
    "ax.bar(cantons,valuesAfter, color =\"r\", alpha= 0.5)\n",
    "ax.bar(cantons,values, color=\"b\", alpha = 0.5)\n",
    "plt.legend([\"ICU beds in May\", \"ICU beds in March\"])\n",
    "plt.title(\"Normalized number of ICU beds per population\")\n",
    "plt.show()"
   ]
  },
  {
   "cell_type": "code",
   "execution_count": null,
   "metadata": {},
   "outputs": [],
   "source": []
  }
 ],
 "metadata": {
  "kernelspec": {
   "display_name": "Python 3",
   "language": "python",
   "name": "python3"
  },
  "language_info": {
   "codemirror_mode": {
    "name": "ipython",
    "version": 3
   },
   "file_extension": ".py",
   "mimetype": "text/x-python",
   "name": "python",
   "nbconvert_exporter": "python",
   "pygments_lexer": "ipython3",
   "version": "3.6.3"
  }
 },
 "nbformat": 4,
 "nbformat_minor": 2
}
